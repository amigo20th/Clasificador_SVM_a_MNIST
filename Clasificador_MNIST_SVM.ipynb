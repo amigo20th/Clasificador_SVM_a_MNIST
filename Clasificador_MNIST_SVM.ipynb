{
  "nbformat": 4,
  "nbformat_minor": 0,
  "metadata": {
    "colab": {
      "name": "Clasificador_MNIST_SVM.ipynb",
      "provenance": [],
      "collapsed_sections": []
    },
    "kernelspec": {
      "name": "python3",
      "display_name": "Python 3"
    },
    "language_info": {
      "name": "python"
    }
  },
  "cells": [
    {
      "cell_type": "markdown",
      "metadata": {
        "id": "6zN1M4ieipG2"
      },
      "source": [
        "# Objetivo\n",
        "Crear un clasificador de números escritos a mano, los números van a ser del 0 al 9.\n",
        "Como clasificador se va a ocupar una Máquina de Soporte Vectorial (Support-Vector Machine SVM)."
      ]
    },
    {
      "cell_type": "code",
      "metadata": {
        "id": "ParNntsEPumh"
      },
      "source": [
        "import matplotlib.pyplot as plt\n",
        "from sklearn import datasets, svm, metrics\n",
        "import pandas as pd\n",
        "import seaborn as sns\n",
        "import numpy as np"
      ],
      "execution_count": 1,
      "outputs": []
    },
    {
      "cell_type": "markdown",
      "metadata": {
        "id": "pBc6uqkaRqMW"
      },
      "source": [
        "Se procede a dar una breve explicación de las métricas aquí usadas. Cabe señalar que las métricas usadas son referentes a métodos de clasificación y matriz de confusión.\n",
        "\n",
        "Sea una matriz de confusión de la siguiente forma:\n",
        "\n",
        "<table>\n",
        "    <tbody>\n",
        "        <td>Verdadero Positivo (TP)</td>\n",
        "        <td>Falso Negativo (FN)</td>\n",
        "    </tbody>\n",
        "    <tbody>\n",
        "        <td>Falso Positivo (FP)</td>\n",
        "        <td>Verdadero Negativo (TN)</td>\n",
        "    </tbody>\n",
        "</table>\n",
        "\n",
        "- **Precision**. Mide la fracción de positivos reales entre los ejemplos que se pronostican como positivos. El rango es de 0 a 1. Un valor grande indica una mejor precisión predictiva. Está descrito para la siguiente fórmula:\n",
        "\n",
        "**Precisión** = $\\frac{TP}{TP+FP}$\n",
        "\n",
        "- **Recall**. Mide la fracción de positivos reales que se pronostican como positivos. El rango es de 0 a 1. Un valor grande indica mejor precisión. Está descrito por la siguiente fórmula:\n",
        "\n",
        "**Recall** = $\\frac{TP}{TP+FN}$\n",
        "\n",
        "- **F1-Score**. Promedio ponderado de Recall y precision. Está dado por la siguiente fórmula:\n",
        "\n",
        "**F1-Score** = $\\frac{2TP}{2TP+FP+FN}$\n",
        "\n",
        "- **AUC**. AUC mide la capacidad del modelo para predecir una puntuación más alta para ejemplos positivos en comparación con ejemplos negativos. La métrica está hecho por calcular el área bajo la curva ROC usando la regla del trapecio.\n",
        "\n",
        "- **False Positive Rate**. La tasa de falsos positivos (FPR) mide la tasa de falsas alarmas o la fracción de negativos reales que se predicen. El rango es de 0 a 1. Un valor más pequeño indica una mejor precisión predictiva. Se calcula con la siguiente fórmula:\n",
        "\n",
        "**False Positive Rate** = $\\frac{FP}{FP+TN}$\n",
        "\n",
        "\n"
      ]
    },
    {
      "cell_type": "markdown",
      "metadata": {
        "id": "GB2bVxyuiS6p"
      },
      "source": [
        "Leemos el Conjunto de datos que está disponible gracias a scikit-learn\n",
        "\n",
        "https://scikit-learn.org/stable/modules/generated/sklearn.datasets.load_digits.html"
      ]
    },
    {
      "cell_type": "code",
      "metadata": {
        "id": "PS3Lel-ZSEnv"
      },
      "source": [
        "digits = datasets.load_digits()"
      ],
      "execution_count": 2,
      "outputs": []
    },
    {
      "cell_type": "markdown",
      "metadata": {
        "id": "xUpGjk4jibUI"
      },
      "source": [
        "El conjunto de datos de digits esta conformado por 1797 imágenes de tamaño 8 x 8 pixeles, las imágenes son de números escritos a mano."
      ]
    },
    {
      "cell_type": "code",
      "metadata": {
        "colab": {
          "base_uri": "https://localhost:8080/"
        },
        "id": "pB2kCcJciQWn",
        "outputId": "930a6172-a345-452e-a619-2e86ffd82935"
      },
      "source": [
        "digits.images.shape"
      ],
      "execution_count": 3,
      "outputs": [
        {
          "output_type": "execute_result",
          "data": {
            "text/plain": [
              "(1797, 8, 8)"
            ]
          },
          "metadata": {
            "tags": []
          },
          "execution_count": 3
        }
      ]
    },
    {
      "cell_type": "markdown",
      "metadata": {
        "id": "C4xsHWTNjUch"
      },
      "source": [
        "Los datos referentes a la etiquetas objetivo o _target_ en inglés están dados por las dimensiones siguietes"
      ]
    },
    {
      "cell_type": "code",
      "metadata": {
        "colab": {
          "base_uri": "https://localhost:8080/"
        },
        "id": "gIEG1kcCjjk6",
        "outputId": "325c3fc6-fd53-4ed7-adbd-222b95254b7c"
      },
      "source": [
        "# head()\n",
        "digits.target[:5]"
      ],
      "execution_count": 4,
      "outputs": [
        {
          "output_type": "execute_result",
          "data": {
            "text/plain": [
              "array([0, 1, 2, 3, 4])"
            ]
          },
          "metadata": {
            "tags": []
          },
          "execution_count": 4
        }
      ]
    },
    {
      "cell_type": "code",
      "metadata": {
        "colab": {
          "base_uri": "https://localhost:8080/"
        },
        "id": "kPJvG_GojT4b",
        "outputId": "9280b9a9-d303-45bf-a319-2295eaed102f"
      },
      "source": [
        "digits.target.shape"
      ],
      "execution_count": 5,
      "outputs": [
        {
          "output_type": "execute_result",
          "data": {
            "text/plain": [
              "(1797,)"
            ]
          },
          "metadata": {
            "tags": []
          },
          "execution_count": 5
        }
      ]
    },
    {
      "cell_type": "markdown",
      "metadata": {
        "id": "xVym4bHojxjY"
      },
      "source": [
        "Juntamos los datos anteriores para formar una lista y a partir de ahí graficar las primeras 10 imágenes de nuestro conjunto de datos."
      ]
    },
    {
      "cell_type": "code",
      "metadata": {
        "colab": {
          "base_uri": "https://localhost:8080/",
          "height": 223
        },
        "id": "BNWj2Z_gjSDZ",
        "outputId": "ea7a7776-cb04-4f04-ab60-5fc1c8c4a983"
      },
      "source": [
        "# _zip()_ Lo que hace es devolver un par ordenado de dos conjuntos de datos, \n",
        "# el orden es dado, la primera entrada va con la primera entrada del \n",
        "# segundo conjunto, la segunda del primero con la segunda del segundo, etc.\n",
        "# i.e. zip(A, B) = ((A_índice_1, B_índice_1),(A_índice_2,B_índice_2), ...)\n",
        "images_and_labels = list(zip(digits.images, digits.target))\n",
        "for index, (image, label) in enumerate(images_and_labels[:10]):\n",
        "    plt.subplot(2, 5, index + 1)\n",
        "    plt.axis('off')\n",
        "    plt.imshow(image, cmap=plt.cm.gray_r)\n",
        "    plt.title(f\"Training: {label}\")"
      ],
      "execution_count": 6,
      "outputs": [
        {
          "output_type": "display_data",
          "data": {
            "image/png": "[encoded data removed]",
            "text/plain": [
              "<Figure size 432x288 with 10 Axes>"
            ]
          },
          "metadata": {
            "tags": [],
            "needs_background": "light"
          }
        }
      ]
    },
    {
      "cell_type": "markdown",
      "metadata": {
        "id": "qliQEwl4kpa8"
      },
      "source": [
        "Para la preparación de los datos, es necesario \"aplanar\" las dimensiones de la imagen para convertirlo en una matriz (datos, _target_)"
      ]
    },
    {
      "cell_type": "code",
      "metadata": {
        "id": "f2ZLqZRuj-RZ"
      },
      "source": [
        "n_samples = len(digits.images)\n",
        "# Aqui el reshape lo que hace es, toma en número de imágenes que tenemos y crea \n",
        "# ese cantidad de filas, usando el valor -1, es dejarle a numpy que esa \n",
        "# dimensión tome las dimensiones que faltan, en este caso es 8 x 8 que eran el \n",
        "# tamaño de la matriz\n",
        "data = digits.images.reshape((n_samples, -1))"
      ],
      "execution_count": 7,
      "outputs": []
    },
    {
      "cell_type": "code",
      "metadata": {
        "colab": {
          "base_uri": "https://localhost:8080/"
        },
        "id": "PxdpsoVlk2Bx",
        "outputId": "c31ebce3-7895-466c-dc61-646ed0a85695"
      },
      "source": [
        "data.shape"
      ],
      "execution_count": 8,
      "outputs": [
        {
          "output_type": "execute_result",
          "data": {
            "text/plain": [
              "(1797, 64)"
            ]
          },
          "metadata": {
            "tags": []
          },
          "execution_count": 8
        }
      ]
    },
    {
      "cell_type": "markdown",
      "metadata": {
        "id": "u6ECpXI6lCMd"
      },
      "source": [
        "Creamo el clasificador que como se definió en el objetivo va a ser una Máquina de Soporte Vectorial"
      ]
    },
    {
      "cell_type": "code",
      "metadata": {
        "id": "DCoxbiVLlBBk"
      },
      "source": [
        "svm = svm.SVC(gamma=0.001)"
      ],
      "execution_count": 9,
      "outputs": []
    },
    {
      "cell_type": "markdown",
      "metadata": {
        "id": "eSTJgEzzmZpr"
      },
      "source": [
        "Ahora pasamos a utilizar la primera mitad del conjunto de datos para entrenar la Máquina de Soporte Vectorial."
      ]
    },
    {
      "cell_type": "code",
      "metadata": {
        "colab": {
          "base_uri": "https://localhost:8080/"
        },
        "id": "bWULja86mb2x",
        "outputId": "be7c7e79-31a3-470b-e2ec-192409441dbc"
      },
      "source": [
        "# // Genera una división entera\n",
        "svm.fit(data[ :n_samples//2], digits.target[ :n_samples//2])"
      ],
      "execution_count": 10,
      "outputs": [
        {
          "output_type": "execute_result",
          "data": {
            "text/plain": [
              "SVC(C=1.0, break_ties=False, cache_size=200, class_weight=None, coef0=0.0,\n",
              "    decision_function_shape='ovr', degree=3, gamma=0.001, kernel='rbf',\n",
              "    max_iter=-1, probability=False, random_state=None, shrinking=True,\n",
              "    tol=0.001, verbose=False)"
            ]
          },
          "metadata": {
            "tags": []
          },
          "execution_count": 10
        }
      ]
    },
    {
      "cell_type": "markdown",
      "metadata": {
        "id": "j-kEeHzHms6y"
      },
      "source": [
        "Predecimos las clases de la segunda mitad de nuestro conjunto de imágenes"
      ]
    },
    {
      "cell_type": "code",
      "metadata": {
        "id": "GVoZtdsEmofR"
      },
      "source": [
        "predicted = svm.predict(data[n_samples//2 : ])"
      ],
      "execution_count": 11,
      "outputs": []
    },
    {
      "cell_type": "code",
      "metadata": {
        "colab": {
          "base_uri": "https://localhost:8080/"
        },
        "id": "ReArY4pCndI-",
        "outputId": "c8766383-501e-4129-f728-f9c8ba02af43"
      },
      "source": [
        "predicted.shape"
      ],
      "execution_count": 12,
      "outputs": [
        {
          "output_type": "execute_result",
          "data": {
            "text/plain": [
              "(899,)"
            ]
          },
          "metadata": {
            "tags": []
          },
          "execution_count": 12
        }
      ]
    },
    {
      "cell_type": "markdown",
      "metadata": {
        "id": "yheOSa8GnhTm"
      },
      "source": [
        "Imprimimos las métricas anteriormente explicadas."
      ]
    },
    {
      "cell_type": "code",
      "metadata": {
        "colab": {
          "base_uri": "https://localhost:8080/"
        },
        "id": "PQ-jxZ2ynfmf",
        "outputId": "b2c59ea6-4c6b-463a-af03-76abf5f2ee21"
      },
      "source": [
        "print(\"Métricas de las predicciones hechas por el clasificador SVM: \")\n",
        "print(metrics.classification_report(digits.target[n_samples//2 :], predicted))"
      ],
      "execution_count": 13,
      "outputs": [
        {
          "output_type": "stream",
          "text": [
            "Métricas de las predicciones hechas por el clasificador SVM: \n",
            "              precision    recall  f1-score   support\n",
            "\n",
            "           0       1.00      0.99      0.99        88\n",
            "           1       0.99      0.97      0.98        91\n",
            "           2       0.99      0.99      0.99        86\n",
            "           3       0.98      0.87      0.92        91\n",
            "           4       0.99      0.96      0.97        92\n",
            "           5       0.95      0.97      0.96        91\n",
            "           6       0.99      0.99      0.99        91\n",
            "           7       0.96      0.99      0.97        89\n",
            "           8       0.94      1.00      0.97        88\n",
            "           9       0.93      0.98      0.95        92\n",
            "\n",
            "    accuracy                           0.97       899\n",
            "   macro avg       0.97      0.97      0.97       899\n",
            "weighted avg       0.97      0.97      0.97       899\n",
            "\n"
          ],
          "name": "stdout"
        }
      ]
    },
    {
      "cell_type": "markdown",
      "metadata": {
        "id": "1Wk8nGQznrNZ"
      },
      "source": [
        "Generamos la matriz de confusión."
      ]
    },
    {
      "cell_type": "code",
      "metadata": {
        "colab": {
          "base_uri": "https://localhost:8080/"
        },
        "id": "koNRTF7BnmeU",
        "outputId": "05931802-8abf-4966-b913-64f2584da624"
      },
      "source": [
        "# La función center es solo para dar formato, toma el primer valor,\n",
        "# que en este caso es 33, escribe el texto y lo rellena con espacios\n",
        "# en blanco, aquí se ocupó center, pero existe rjust y ljust para\n",
        "# alinear a la derecha e izquierda respectivamente\n",
        "print(\"Matriz de confusión\".center(33, ' '))\n",
        "print(metrics.confusion_matrix(digits.target[n_samples//2 :], predicted))"
      ],
      "execution_count": 14,
      "outputs": [
        {
          "output_type": "stream",
          "text": [
            "       Matriz de confusión       \n",
            "[[87  0  0  0  1  0  0  0  0  0]\n",
            " [ 0 88  1  0  0  0  0  0  1  1]\n",
            " [ 0  0 85  1  0  0  0  0  0  0]\n",
            " [ 0  0  0 79  0  3  0  4  5  0]\n",
            " [ 0  0  0  0 88  0  0  0  0  4]\n",
            " [ 0  0  0  0  0 88  1  0  0  2]\n",
            " [ 0  1  0  0  0  0 90  0  0  0]\n",
            " [ 0  0  0  0  0  1  0 88  0  0]\n",
            " [ 0  0  0  0  0  0  0  0 88  0]\n",
            " [ 0  0  0  1  0  1  0  0  0 90]]\n"
          ],
          "name": "stdout"
        }
      ]
    },
    {
      "cell_type": "markdown",
      "metadata": {
        "id": "at6RU4zKoNpM"
      },
      "source": [
        "Ahora generamos la misma impresión anterior de los 10 primeras imágenes con su respectivo valor predicho por la SVM."
      ]
    },
    {
      "cell_type": "code",
      "metadata": {
        "colab": {
          "base_uri": "https://localhost:8080/",
          "height": 223
        },
        "id": "hekALfE_oD1W",
        "outputId": "84c39fc2-38e9-468c-c0e5-0d030989e01b"
      },
      "source": [
        "images_and_predictions = list(zip(digits.images[n_samples//2: ], predicted))\n",
        "\n",
        "for index, (image, prediction) in enumerate(images_and_labels[ :10]):\n",
        "    plt.subplot(2, 5, index + 1)\n",
        "    plt.axis('off')\n",
        "    plt.imshow(image, cmap=plt.cm.gray_r)\n",
        "    plt.title(f\"Predicted: {prediction}\")     "
      ],
      "execution_count": 15,
      "outputs": [
        {
          "output_type": "display_data",
          "data": {
            "image/png": "[encoded data removed]",
            "text/plain": [
              "<Figure size 432x288 with 10 Axes>"
            ]
          },
          "metadata": {
            "tags": [],
            "needs_background": "light"
          }
        }
      ]
    },
    {
      "cell_type": "markdown",
      "metadata": {
        "id": "XfZlRb7aowwd"
      },
      "source": [
        "## Vamos a crear un diagrama de calor para visualizar de mejor manera la matriz de confusión"
      ]
    },
    {
      "cell_type": "markdown",
      "metadata": {
        "id": "jMDgeCSYo0Tl"
      },
      "source": [
        "Vamos a apoyarnos de pandas para generar la matriz de confusión a partir de la función _crosstab_. Para lo anterior es necesario convertir nuestro columna de clases predichas y la columna target en _DataFrames_, cabe recordar que aquí se está tomando los _target_ de la segunda mitad de nuestro catálogo de imágenes."
      ]
    },
    {
      "cell_type": "code",
      "metadata": {
        "colab": {
          "base_uri": "https://localhost:8080/",
          "height": 424
        },
        "id": "MIN_lcLVoYAo",
        "outputId": "ad63b182-7769-49fd-908f-cb2202d2972f"
      },
      "source": [
        "df_predicted = pd.DataFrame(predicted)\n",
        "df_expected = pd.DataFrame(digits.target[n_samples//2: ])\n",
        "df_expected"
      ],
      "execution_count": 16,
      "outputs": [
        {
          "output_type": "execute_result",
          "data": {
            "text/html": [
              "<div>\n",
              "<style scoped>\n",
              "    .dataframe tbody tr th:only-of-type {\n",
              "        vertical-align: middle;\n",
              "    }\n",
              "\n",
              "    .dataframe tbody tr th {\n",
              "        vertical-align: top;\n",
              "    }\n",
              "\n",
              "    .dataframe thead th {\n",
              "        text-align: right;\n",
              "    }\n",
              "</style>\n",
              "<table border=\"1\" class=\"dataframe\">\n",
              "  <thead>\n",
              "    <tr style=\"text-align: right;\">\n",
              "      <th></th>\n",
              "      <th>0</th>\n",
              "    </tr>\n",
              "  </thead>\n",
              "  <tbody>\n",
              "    <tr>\n",
              "      <th>0</th>\n",
              "      <td>8</td>\n",
              "    </tr>\n",
              "    <tr>\n",
              "      <th>1</th>\n",
              "      <td>8</td>\n",
              "    </tr>\n",
              "    <tr>\n",
              "      <th>2</th>\n",
              "      <td>4</td>\n",
              "    </tr>\n",
              "    <tr>\n",
              "      <th>3</th>\n",
              "      <td>9</td>\n",
              "    </tr>\n",
              "    <tr>\n",
              "      <th>4</th>\n",
              "      <td>0</td>\n",
              "    </tr>\n",
              "    <tr>\n",
              "      <th>...</th>\n",
              "      <td>...</td>\n",
              "    </tr>\n",
              "    <tr>\n",
              "      <th>894</th>\n",
              "      <td>9</td>\n",
              "    </tr>\n",
              "    <tr>\n",
              "      <th>895</th>\n",
              "      <td>0</td>\n",
              "    </tr>\n",
              "    <tr>\n",
              "      <th>896</th>\n",
              "      <td>8</td>\n",
              "    </tr>\n",
              "    <tr>\n",
              "      <th>897</th>\n",
              "      <td>9</td>\n",
              "    </tr>\n",
              "    <tr>\n",
              "      <th>898</th>\n",
              "      <td>8</td>\n",
              "    </tr>\n",
              "  </tbody>\n",
              "</table>\n",
              "<p>899 rows × 1 columns</p>\n",
              "</div>"
            ],
            "text/plain": [
              "     0\n",
              "0    8\n",
              "1    8\n",
              "2    4\n",
              "3    9\n",
              "4    0\n",
              "..  ..\n",
              "894  9\n",
              "895  0\n",
              "896  8\n",
              "897  9\n",
              "898  8\n",
              "\n",
              "[899 rows x 1 columns]"
            ]
          },
          "metadata": {
            "tags": []
          },
          "execution_count": 16
        }
      ]
    },
    {
      "cell_type": "markdown",
      "metadata": {
        "id": "vndH9Z7iphgC"
      },
      "source": [
        "Juntamos en un solo _DataFrame_ los dos _DataFrame_ creados anteriormente."
      ]
    },
    {
      "cell_type": "code",
      "metadata": {
        "colab": {
          "base_uri": "https://localhost:8080/",
          "height": 424
        },
        "id": "5Q0DlGAspVdT",
        "outputId": "09350b38-af76-4ae4-c4fe-0a6fa37ceb67"
      },
      "source": [
        "df_final= df_predicted.copy(deep=True)\n",
        "df_final['expected'] = df_expected\n",
        "df_final.columns = ['predicted', 'expected']\n",
        "df_final"
      ],
      "execution_count": 17,
      "outputs": [
        {
          "output_type": "execute_result",
          "data": {
            "text/html": [
              "<div>\n",
              "<style scoped>\n",
              "    .dataframe tbody tr th:only-of-type {\n",
              "        vertical-align: middle;\n",
              "    }\n",
              "\n",
              "    .dataframe tbody tr th {\n",
              "        vertical-align: top;\n",
              "    }\n",
              "\n",
              "    .dataframe thead th {\n",
              "        text-align: right;\n",
              "    }\n",
              "</style>\n",
              "<table border=\"1\" class=\"dataframe\">\n",
              "  <thead>\n",
              "    <tr style=\"text-align: right;\">\n",
              "      <th></th>\n",
              "      <th>predicted</th>\n",
              "      <th>expected</th>\n",
              "    </tr>\n",
              "  </thead>\n",
              "  <tbody>\n",
              "    <tr>\n",
              "      <th>0</th>\n",
              "      <td>8</td>\n",
              "      <td>8</td>\n",
              "    </tr>\n",
              "    <tr>\n",
              "      <th>1</th>\n",
              "      <td>8</td>\n",
              "      <td>8</td>\n",
              "    </tr>\n",
              "    <tr>\n",
              "      <th>2</th>\n",
              "      <td>4</td>\n",
              "      <td>4</td>\n",
              "    </tr>\n",
              "    <tr>\n",
              "      <th>3</th>\n",
              "      <td>9</td>\n",
              "      <td>9</td>\n",
              "    </tr>\n",
              "    <tr>\n",
              "      <th>4</th>\n",
              "      <td>0</td>\n",
              "      <td>0</td>\n",
              "    </tr>\n",
              "    <tr>\n",
              "      <th>...</th>\n",
              "      <td>...</td>\n",
              "      <td>...</td>\n",
              "    </tr>\n",
              "    <tr>\n",
              "      <th>894</th>\n",
              "      <td>9</td>\n",
              "      <td>9</td>\n",
              "    </tr>\n",
              "    <tr>\n",
              "      <th>895</th>\n",
              "      <td>0</td>\n",
              "      <td>0</td>\n",
              "    </tr>\n",
              "    <tr>\n",
              "      <th>896</th>\n",
              "      <td>8</td>\n",
              "      <td>8</td>\n",
              "    </tr>\n",
              "    <tr>\n",
              "      <th>897</th>\n",
              "      <td>9</td>\n",
              "      <td>9</td>\n",
              "    </tr>\n",
              "    <tr>\n",
              "      <th>898</th>\n",
              "      <td>8</td>\n",
              "      <td>8</td>\n",
              "    </tr>\n",
              "  </tbody>\n",
              "</table>\n",
              "<p>899 rows × 2 columns</p>\n",
              "</div>"
            ],
            "text/plain": [
              "     predicted  expected\n",
              "0            8         8\n",
              "1            8         8\n",
              "2            4         4\n",
              "3            9         9\n",
              "4            0         0\n",
              "..         ...       ...\n",
              "894          9         9\n",
              "895          0         0\n",
              "896          8         8\n",
              "897          9         9\n",
              "898          8         8\n",
              "\n",
              "[899 rows x 2 columns]"
            ]
          },
          "metadata": {
            "tags": []
          },
          "execution_count": 17
        }
      ]
    },
    {
      "cell_type": "markdown",
      "metadata": {
        "id": "6_-wY8Zjpr9L"
      },
      "source": [
        "Creamos la matríz de confusión."
      ]
    },
    {
      "cell_type": "code",
      "metadata": {
        "colab": {
          "base_uri": "https://localhost:8080/",
          "height": 394
        },
        "id": "HrjFDeIIpgC1",
        "outputId": "cdd6302a-157b-4794-97de-da7601f5507a"
      },
      "source": [
        "# OJO. es sumamente importante pasar al crosstab primero los valores verdaderos \n",
        "# o actuales, esto ya que es el convenio de la matriz de confusión \n",
        "matriz_confusion = pd.crosstab( df_final.expected, df_final.predicted, rownames=['Actual'], colnames=['Predicción'])\n",
        "matriz_confusion"
      ],
      "execution_count": 20,
      "outputs": [
        {
          "output_type": "execute_result",
          "data": {
            "text/html": [
              "<div>\n",
              "<style scoped>\n",
              "    .dataframe tbody tr th:only-of-type {\n",
              "        vertical-align: middle;\n",
              "    }\n",
              "\n",
              "    .dataframe tbody tr th {\n",
              "        vertical-align: top;\n",
              "    }\n",
              "\n",
              "    .dataframe thead th {\n",
              "        text-align: right;\n",
              "    }\n",
              "</style>\n",
              "<table border=\"1\" class=\"dataframe\">\n",
              "  <thead>\n",
              "    <tr style=\"text-align: right;\">\n",
              "      <th>Predicción</th>\n",
              "      <th>0</th>\n",
              "      <th>1</th>\n",
              "      <th>2</th>\n",
              "      <th>3</th>\n",
              "      <th>4</th>\n",
              "      <th>5</th>\n",
              "      <th>6</th>\n",
              "      <th>7</th>\n",
              "      <th>8</th>\n",
              "      <th>9</th>\n",
              "    </tr>\n",
              "    <tr>\n",
              "      <th>Actual</th>\n",
              "      <th></th>\n",
              "      <th></th>\n",
              "      <th></th>\n",
              "      <th></th>\n",
              "      <th></th>\n",
              "      <th></th>\n",
              "      <th></th>\n",
              "      <th></th>\n",
              "      <th></th>\n",
              "      <th></th>\n",
              "    </tr>\n",
              "  </thead>\n",
              "  <tbody>\n",
              "    <tr>\n",
              "      <th>0</th>\n",
              "      <td>87</td>\n",
              "      <td>0</td>\n",
              "      <td>0</td>\n",
              "      <td>0</td>\n",
              "      <td>1</td>\n",
              "      <td>0</td>\n",
              "      <td>0</td>\n",
              "      <td>0</td>\n",
              "      <td>0</td>\n",
              "      <td>0</td>\n",
              "    </tr>\n",
              "    <tr>\n",
              "      <th>1</th>\n",
              "      <td>0</td>\n",
              "      <td>88</td>\n",
              "      <td>1</td>\n",
              "      <td>0</td>\n",
              "      <td>0</td>\n",
              "      <td>0</td>\n",
              "      <td>0</td>\n",
              "      <td>0</td>\n",
              "      <td>1</td>\n",
              "      <td>1</td>\n",
              "    </tr>\n",
              "    <tr>\n",
              "      <th>2</th>\n",
              "      <td>0</td>\n",
              "      <td>0</td>\n",
              "      <td>85</td>\n",
              "      <td>1</td>\n",
              "      <td>0</td>\n",
              "      <td>0</td>\n",
              "      <td>0</td>\n",
              "      <td>0</td>\n",
              "      <td>0</td>\n",
              "      <td>0</td>\n",
              "    </tr>\n",
              "    <tr>\n",
              "      <th>3</th>\n",
              "      <td>0</td>\n",
              "      <td>0</td>\n",
              "      <td>0</td>\n",
              "      <td>79</td>\n",
              "      <td>0</td>\n",
              "      <td>3</td>\n",
              "      <td>0</td>\n",
              "      <td>4</td>\n",
              "      <td>5</td>\n",
              "      <td>0</td>\n",
              "    </tr>\n",
              "    <tr>\n",
              "      <th>4</th>\n",
              "      <td>0</td>\n",
              "      <td>0</td>\n",
              "      <td>0</td>\n",
              "      <td>0</td>\n",
              "      <td>88</td>\n",
              "      <td>0</td>\n",
              "      <td>0</td>\n",
              "      <td>0</td>\n",
              "      <td>0</td>\n",
              "      <td>4</td>\n",
              "    </tr>\n",
              "    <tr>\n",
              "      <th>5</th>\n",
              "      <td>0</td>\n",
              "      <td>0</td>\n",
              "      <td>0</td>\n",
              "      <td>0</td>\n",
              "      <td>0</td>\n",
              "      <td>88</td>\n",
              "      <td>1</td>\n",
              "      <td>0</td>\n",
              "      <td>0</td>\n",
              "      <td>2</td>\n",
              "    </tr>\n",
              "    <tr>\n",
              "      <th>6</th>\n",
              "      <td>0</td>\n",
              "      <td>1</td>\n",
              "      <td>0</td>\n",
              "      <td>0</td>\n",
              "      <td>0</td>\n",
              "      <td>0</td>\n",
              "      <td>90</td>\n",
              "      <td>0</td>\n",
              "      <td>0</td>\n",
              "      <td>0</td>\n",
              "    </tr>\n",
              "    <tr>\n",
              "      <th>7</th>\n",
              "      <td>0</td>\n",
              "      <td>0</td>\n",
              "      <td>0</td>\n",
              "      <td>0</td>\n",
              "      <td>0</td>\n",
              "      <td>1</td>\n",
              "      <td>0</td>\n",
              "      <td>88</td>\n",
              "      <td>0</td>\n",
              "      <td>0</td>\n",
              "    </tr>\n",
              "    <tr>\n",
              "      <th>8</th>\n",
              "      <td>0</td>\n",
              "      <td>0</td>\n",
              "      <td>0</td>\n",
              "      <td>0</td>\n",
              "      <td>0</td>\n",
              "      <td>0</td>\n",
              "      <td>0</td>\n",
              "      <td>0</td>\n",
              "      <td>88</td>\n",
              "      <td>0</td>\n",
              "    </tr>\n",
              "    <tr>\n",
              "      <th>9</th>\n",
              "      <td>0</td>\n",
              "      <td>0</td>\n",
              "      <td>0</td>\n",
              "      <td>1</td>\n",
              "      <td>0</td>\n",
              "      <td>1</td>\n",
              "      <td>0</td>\n",
              "      <td>0</td>\n",
              "      <td>0</td>\n",
              "      <td>90</td>\n",
              "    </tr>\n",
              "  </tbody>\n",
              "</table>\n",
              "</div>"
            ],
            "text/plain": [
              "Predicción   0   1   2   3   4   5   6   7   8   9\n",
              "Actual                                            \n",
              "0           87   0   0   0   1   0   0   0   0   0\n",
              "1            0  88   1   0   0   0   0   0   1   1\n",
              "2            0   0  85   1   0   0   0   0   0   0\n",
              "3            0   0   0  79   0   3   0   4   5   0\n",
              "4            0   0   0   0  88   0   0   0   0   4\n",
              "5            0   0   0   0   0  88   1   0   0   2\n",
              "6            0   1   0   0   0   0  90   0   0   0\n",
              "7            0   0   0   0   0   1   0  88   0   0\n",
              "8            0   0   0   0   0   0   0   0  88   0\n",
              "9            0   0   0   1   0   1   0   0   0  90"
            ]
          },
          "metadata": {
            "tags": []
          },
          "execution_count": 20
        }
      ]
    },
    {
      "cell_type": "markdown",
      "metadata": {
        "id": "mIdQRX5JrhZ_"
      },
      "source": [
        "Crear el diagrama de calor."
      ]
    },
    {
      "cell_type": "code",
      "metadata": {
        "colab": {
          "base_uri": "https://localhost:8080/",
          "height": 283
        },
        "id": "mq9ClAFgpvxK",
        "outputId": "757914c2-a456-46f2-d44a-b228018320a5"
      },
      "source": [
        "# Se utiliza el cmap de _flare_ ya que tiene varios valores de 0\n",
        "# y quedamuy oscuro el diagrama de calor\n",
        "sns.heatmap(matriz_confusion, annot=True, cmap='flare')\n",
        "plt.show()"
      ],
      "execution_count": 21,
      "outputs": [
        {
          "output_type": "display_data",
          "data": {
            "image/png": "[encoded data removed]",
            "text/plain": [
              "<Figure size 432x288 with 2 Axes>"
            ]
          },
          "metadata": {
            "tags": [],
            "needs_background": "light"
          }
        }
      ]
    }
  ]
}